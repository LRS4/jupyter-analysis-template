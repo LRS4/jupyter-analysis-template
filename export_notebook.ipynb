{
 "cells": [
  {
   "cell_type": "markdown",
   "id": "28d608af-e66e-45a8-9cf4-aaefdc2210da",
   "metadata": {},
   "source": [
    "# Export Notebook to HTML"
   ]
  },
  {
   "cell_type": "markdown",
   "id": "697e51dd-d20f-4c85-a50b-11fe18bf4af4",
   "metadata": {},
   "source": [
    "This function exports the interactive_analysis_template.ipynb notebook to HTML, then applies the .GOV styling to it."
   ]
  },
  {
   "cell_type": "code",
   "execution_count": 4,
   "id": "c2e882ba-899b-44ef-a6d9-74ca07674998",
   "metadata": {},
   "outputs": [
    {
     "name": "stderr",
     "output_type": "stream",
     "text": [
      "[NbConvertApp] Converting notebook interactive_analysis_template.ipynb to html\n",
      "C:\\Users\\lrspe\\anaconda3\\lib\\site-packages\\nbconvert\\filters\\datatypefilter.py:39: UserWarning: Your element with mimetype(s) dict_keys([]) is not able to be represented.\n",
      "  warn(\"Your element with mimetype(s) {mimetypes}\"\n",
      "[NbConvertApp] Writing 4303952 bytes to output\\interactive_analysis_template.html\n"
     ]
    }
   ],
   "source": [
    "def export_notebook_to_html() -> None:\n",
    "    ! jupyter nbconvert --to html interactive_analysis_template.ipynb --output-dir=output\n",
    "\n",
    "\n",
    "export_notebook_to_html()"
   ]
  },
  {
   "cell_type": "markdown",
   "id": "94e8204a-0523-4457-8d55-dd84b2cb0a8e",
   "metadata": {},
   "source": [
    "Before running this function you may need to increase IOPub data limit in Anaconda Prompt by running `jupyter lab --NotebookApp.iopub_data_rate_limit=1.0e10`"
   ]
  },
  {
   "cell_type": "code",
   "execution_count": 5,
   "id": "6db34e33-0852-4124-a011-20810ef52e9d",
   "metadata": {},
   "outputs": [
    {
     "data": {
      "text/plain": [
       "'GOVUK styling applied successfully.'"
      ]
     },
     "execution_count": 5,
     "metadata": {},
     "output_type": "execute_result"
    }
   ],
   "source": [
    "import bs4\n",
    "\n",
    "def read_html() -> None:\n",
    "    with open(\"output/interactive_analysis_template.html\", encoding='utf8') as page:\n",
    "        text = page.read()\n",
    "        \n",
    "        return bs4.BeautifulSoup(text, \"html.parser\")\n",
    "\n",
    "    \n",
    "def write_html(soup: bs4.BeautifulSoup) -> None:\n",
    "    with open(\"output/govified_interactive_analysis_template.html\", \n",
    "              mode=\"w\", \n",
    "              encoding=\"utf-8\") as page:\n",
    "        page.write(str(soup))\n",
    "\n",
    "\n",
    "def add_css_link_to_head(soup: bs4.BeautifulSoup) -> bs4.BeautifulSoup:\n",
    "    gov_stylesheet = soup.new_tag(\n",
    "        \"link\", \n",
    "        rel=\"stylesheet\", \n",
    "        media=\"all\", \n",
    "        href=\"https://www.gov.uk/assets/static/application-eeefd93bb4e3a40533688e62bae6a241ff74802cba07f6da687198e517c4b13e.css\"\n",
    "    )\n",
    "\n",
    "    soup.head.append(gov_stylesheet)\n",
    "    \n",
    "    return soup\n",
    "\n",
    "\n",
    "def add_gov_classes_to_links(soup: bs4.BeautifulSoup) -> bs4.BeautifulSoup:\n",
    "    for a in soup.findAll('a'):\n",
    "        if a.has_attr('class'):\n",
    "            if \"anchor-link\" not in a['class']:\n",
    "                a['class'] = a['class'].append(\"govuk-link\")\n",
    "        else:\n",
    "            a['class'] = \"govuk-link\"\n",
    "        \n",
    "    return soup\n",
    "\n",
    "\n",
    "def add_gov_classes_to_text(soup: bs4.BeautifulSoup) -> bs4.BeautifulSoup:\n",
    "    for p in soup.findAll('p'):\n",
    "        if p.has_attr('class'):\n",
    "            p['class'] = a['class'].append(\"govuk-body-s\")\n",
    "        else:\n",
    "            p['class'] = \"govuk-body-s\"\n",
    "        \n",
    "    return soup\n",
    "\n",
    "\n",
    "def add_gov_classes_to_headers(soup: bs4.BeautifulSoup) -> bs4.BeautifulSoup:\n",
    "    for p in soup.findAll('h1'):\n",
    "        if p.has_attr('class'):\n",
    "            p['class'] = a['class'].append(\"govuk-heading-l\")\n",
    "        else:\n",
    "            p['class'] = \"govuk-heading-l\"\n",
    "            \n",
    "    for p in soup.findAll('h2'):\n",
    "        if p.has_attr('class'):\n",
    "            p['class'] = a['class'].append(\"govuk-heading-m\")\n",
    "        else:\n",
    "            p['class'] = \"govuk-heading-m\"\n",
    "            \n",
    "    for p in soup.findAll('h3'):\n",
    "        if p.has_attr('class'):\n",
    "            p['class'] = a['class'].append(\"govuk-heading-s\")\n",
    "        else:\n",
    "            p['class'] = \"govuk-heading-s\"\n",
    "        \n",
    "    return soup\n",
    "  \n",
    "\n",
    "def govify_html() -> None:\n",
    "    soup = read_html()\n",
    "    soup = add_css_link_to_head(soup)\n",
    "    soup = add_gov_classes_to_links(soup)\n",
    "    soup = add_gov_classes_to_text(soup)\n",
    "    soup = add_gov_classes_to_headers(soup)\n",
    "    \n",
    "    write_html(soup)\n",
    "\n",
    "    return \"GOVUK styling applied successfully.\"\n",
    "    \n",
    "\n",
    "govify_html()"
   ]
  },
  {
   "cell_type": "code",
   "execution_count": null,
   "id": "49e5e63b-c05d-4d5b-9bb2-91f29e6cd683",
   "metadata": {},
   "outputs": [],
   "source": []
  }
 ],
 "metadata": {
  "kernelspec": {
   "display_name": "Python 3 (ipykernel)",
   "language": "python",
   "name": "python3"
  },
  "language_info": {
   "codemirror_mode": {
    "name": "ipython",
    "version": 3
   },
   "file_extension": ".py",
   "mimetype": "text/x-python",
   "name": "python",
   "nbconvert_exporter": "python",
   "pygments_lexer": "ipython3",
   "version": "3.9.7"
  }
 },
 "nbformat": 4,
 "nbformat_minor": 5
}
